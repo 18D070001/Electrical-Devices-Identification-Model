{
  "nbformat": 4,
  "nbformat_minor": 0,
  "metadata": {
    "colab": {
      "name": "feature_extraction_from_whited_dataset.ipynb",
      "provenance": [],
      "collapsed_sections": [
        "AXnuLhUKuAkn",
        "DPk67UdKt0LI",
        "OEFI2kJvyaJ3",
        "i0Uh39ejc97b",
        "Kk518U4gesh2",
        "JEDuoy1s5PYO"
      ]
    },
    "kernelspec": {
      "name": "python3",
      "display_name": "Python 3"
    }
  },
  "cells": [
    {
      "cell_type": "code",
      "metadata": {
        "id": "b0CsME5etPcD",
        "colab_type": "code",
        "colab": {}
      },
      "source": [
        "from google.colab import drive\n",
        "drive.mount(\"/content/gdrive\")"
      ],
      "execution_count": null,
      "outputs": []
    },
    {
      "cell_type": "code",
      "metadata": {
        "id": "_IlHy1uStqC2",
        "colab_type": "code",
        "colab": {}
      },
      "source": [
        "%cd /content/gdrive/'My Drive'/Feature_Extraction/data/whited/voltage  \n",
        "a = os.listdir()"
      ],
      "execution_count": null,
      "outputs": []
    },
    {
      "cell_type": "code",
      "metadata": {
        "id": "dWBWsPiNt9KC",
        "colab_type": "code",
        "colab": {}
      },
      "source": [
        "import numpy as np\n",
        "import pandas as pd\n",
        "import pywt\n",
        "import scipy.io.wavfile as wav\n",
        "import matplotlib.pyplot as plt\n",
        "from scipy.signal import butter, lfilter\n",
        "from scipy.signal import freqz\n",
        "from sklearn.preprocessing import normalize \n",
        "%matplotlib inline\n",
        "from scipy import signal\n",
        "import pywt\n",
        "from pywt import  wavedec\n",
        "from scipy.fft import fftshift\n",
        "import matplotlib.pyplot as plt\n",
        "from scipy.fft import fft\n",
        "import matplotlib.pyplot as plt\n",
        "%matplotlib inline\n",
        "import os"
      ],
      "execution_count": null,
      "outputs": []
    },
    {
      "cell_type": "markdown",
      "metadata": {
        "id": "AXnuLhUKuAkn",
        "colab_type": "text"
      },
      "source": [
        "## **READING WHITED DATASET**"
      ]
    },
    {
      "cell_type": "code",
      "metadata": {
        "id": "Pd37qiF-uLja",
        "colab_type": "code",
        "colab": {}
      },
      "source": [
        "!pip install soundfile"
      ],
      "execution_count": null,
      "outputs": []
    },
    {
      "cell_type": "code",
      "metadata": {
        "id": "nTodSh8GuLsR",
        "colab_type": "code",
        "colab": {}
      },
      "source": [
        "import numpy as np\n",
        "import pandas as pd\n",
        "import os\n",
        "import seaborn as sns\n",
        "import matplotlib.pyplot as plt\n",
        "%matplotlib inline\n",
        "#\n",
        "import soundfile as sf "
      ],
      "execution_count": null,
      "outputs": []
    },
    {
      "cell_type": "code",
      "metadata": {
        "id": "0w6uc7W0uLod",
        "colab_type": "code",
        "colab": {}
      },
      "source": [
        "names = os.listdir()"
      ],
      "execution_count": null,
      "outputs": []
    },
    {
      "cell_type": "code",
      "metadata": {
        "id": "HTjdVGR5uLUF",
        "colab_type": "code",
        "colab": {}
      },
      "source": [
        "len(names)"
      ],
      "execution_count": null,
      "outputs": []
    },
    {
      "cell_type": "code",
      "metadata": {
        "id": "Wa2cPnD2udTw",
        "colab_type": "code",
        "colab": {}
      },
      "source": [
        "count  = 0\n",
        "v = []\n",
        "i = []\n",
        "#for filename in [x for x in os.listdir() if x.endswith('.flac')]:\n",
        "for count in range(1369):\n",
        "    %cd /gdrive/My\\ Drive/Feature_Extraction/data/whited\n",
        "    if names[count] .endswith('.flac') :\n",
        "        filename = names[count]\n",
        "        v = []\n",
        "        i = []\n",
        "        filepath = filename\n",
        "        data, samplerate = sf.read(filepath)\n",
        "        a = np.array(data[:220000])\n",
        "        v = a[:,0]\n",
        "        i = a[:,1]\n",
        "        if 'MK1' in filename:\n",
        "            v = v * 1033\n",
        "            i = i * 61.4\n",
        "        elif 'MK2' in filename:\n",
        "            v = v * 861\n",
        "            i = i * 60.2\n",
        "        else :\n",
        "            v = v * 988\n",
        "            i = i * 60.9\n",
        "        df = pd.DataFrame(list(zip(v,i)), columns = [\"v\", 'i'])\n",
        "        name_str = str(str(filename)[:-4])\n",
        "        %cd /gdrive/My\\ Drive/Feature_Extraction/data/whited/volt\n",
        "        df.to_csv( name_str + 'csv')\n",
        "        %cd /gdrive/My\\ Drive/Feature_Extraction/data/whited\n",
        "        count = count + 1\n",
        "        #if count > 1:\n",
        "        #  break\n"
      ],
      "execution_count": null,
      "outputs": []
    },
    {
      "cell_type": "code",
      "metadata": {
        "id": "eLBvouhhueEY",
        "colab_type": "code",
        "colab": {}
      },
      "source": [
        ""
      ],
      "execution_count": null,
      "outputs": []
    },
    {
      "cell_type": "code",
      "metadata": {
        "id": "ex-N360TudyM",
        "colab_type": "code",
        "colab": {}
      },
      "source": [
        ""
      ],
      "execution_count": null,
      "outputs": []
    },
    {
      "cell_type": "markdown",
      "metadata": {
        "id": "DPk67UdKt0LI",
        "colab_type": "text"
      },
      "source": [
        "## **HARMONICS EXTRACTION**"
      ]
    },
    {
      "cell_type": "code",
      "metadata": {
        "id": "VqfjRvcPJQi-",
        "colab_type": "code",
        "colab": {}
      },
      "source": [
        "from scipy.fftpack import fft\n",
        "from scipy.fftpack import ifft\n",
        "\n",
        "# change the index value for 50 Hz and 60 Hz\n",
        "\n",
        "def harmonics(filename, order):\n",
        "    df = pd.read_csv(filename)\n",
        "    i = np.array(df['i'])\n",
        "    ft = fft(i )\n",
        "    if '_r8_' in filename :\n",
        "        low_cut = 299 * order\n",
        "        up_cut = 301 * order\n",
        "    else :\n",
        "        low_cut = 249 * order\n",
        "        up_cut = 251 * order\n",
        "    y1 = np.zeros(np.shape(ft))\n",
        "    for k in range(low_cut, up_cut):\n",
        "        y1[k] = ft[k]\n",
        "    y2 = ifft(y1)\n",
        "    if '_r8_' in filename :\n",
        "        out = resample(np.abs(y2), 300)\n",
        "    else :\n",
        "        out = resample(np.abs(y2), 250)\n",
        "    l = len(out)\n",
        "    return out[: l//2 ]"
      ],
      "execution_count": null,
      "outputs": []
    },
    {
      "cell_type": "code",
      "metadata": {
        "id": "hH_2oMcqtysh",
        "colab_type": "code",
        "colab": {}
      },
      "source": [
        "names = os.listdir()\n",
        "indx_60 = pd.date_range('1/1/2020', periods= 150 , freq='16666us')\n",
        "indx_50 = pd.date_range('1/1/2020', periods= 125 , freq='20ms')\n",
        "#indx_50 = indx_60 = indx = pd.date_range('1/1/2020', periods= len(v) , freq='22675ns') # change its value\n",
        "for k in range(len(names)):\n",
        "    i = names[k]\n",
        "   \n",
        "    y3 = harmonics(i,3)\n",
        "    y5 = harmonics(i,5)\n",
        "    y7 = harmonics(i,7)\n",
        "    y9 = harmonics(i,9)\n",
        "    y11 = harmonics(i,11)\n",
        "    y13 = harmonics(i,13)\n",
        "    y15 = harmonics(i,15)\n",
        "    y17 = harmonics(i,17)\n",
        "    y19 = harmonics(i,19)\n",
        "    y21 = harmonics(i,21)\n",
        "    y23 = harmonics(i,23)\n",
        "    y25 = harmonics(i,25)\n",
        "    y27 = harmonics(i,27)\n",
        "    y29 = harmonics(i,29)\n",
        "    y31 = harmonics(i,31)\n",
        "    y33 = harmonics(i,33)\n",
        "    y35 = harmonics(i,35)\n",
        "    y37 = harmonics(i,37)\n",
        "    y39 = harmonics(i,39)\n",
        "    y41 = harmonics(i,41)\n",
        "    y43 = harmonics(i,43)\n",
        "    y45 = harmonics(i,45)\n",
        "    y47 = harmonics(i,47)\n",
        "    y49 = harmonics(i,49)\n",
        "\n",
        "    indx = indx_50\n",
        "    if '_r8_' in names[k]:\n",
        "        indx = indx_60\n",
        "    df = pd.DataFrame( list(zip( indx, y3, y5, y7 ,  y9 , y11 , y13 , y15 , y17 ,  y19 , y21 , y23 ,\n",
        "                                y25 , y27 ,  y29,  y31 , y33 , y35 , y37 ,  y39 , y41 , y43 , y45 , y47 ,  y49  ))\n",
        "                              , columns = [\"index\" , '3_harmonic',  '5_harmonic', '7_harmonic' , '9_harmonic' , \n",
        "                                 '11_harmonic' , '13_harmonic' , '15_harmonic', '17_harmonic', '19_harmonic' , \n",
        "                                '21_harmonic' , '23_harmonic',  '25_harmonic', '27_harmonic' ,'29_harmonic' ,\n",
        "                                 '31_harmonic' , '33_harmonic' , '35_harmonic', '37_harmonic', '39_harmonic' ,  \n",
        "                                 '41_harmonic' , '43_harmonic' , '45_harmonic', '47_harmonic', '49_harmonic' ] )\n",
        "    %cd /content/gdrive/'My Drive'/Feature_Extraction/data/whited/harmonics\n",
        "    df.to_csv(str(names[k]), index =  False)\n",
        "    %cd /content/gdrive/'My Drive'/Feature_Extraction/data/whited/voltage\n",
        "    print(k)\n",
        "    # if k > 1:    # remove this part\n",
        "    #     break    # this too"
      ],
      "execution_count": null,
      "outputs": []
    },
    {
      "cell_type": "code",
      "metadata": {
        "id": "2KiJBrcEvXcS",
        "colab_type": "code",
        "colab": {}
      },
      "source": [
        "%cd /content/gdrive/'My Drive'/Feature_Extraction/data/whited/harmonics"
      ],
      "execution_count": null,
      "outputs": []
    },
    {
      "cell_type": "code",
      "metadata": {
        "id": "VI5h6l8zvYJe",
        "colab_type": "code",
        "colab": {}
      },
      "source": [
        ""
      ],
      "execution_count": null,
      "outputs": []
    },
    {
      "cell_type": "markdown",
      "metadata": {
        "id": "OEFI2kJvyaJ3",
        "colab_type": "text"
      },
      "source": [
        "## **SELECTING MORE USEFUL HARMONICS**"
      ]
    },
    {
      "cell_type": "code",
      "metadata": {
        "id": "q9QW7Rkpygl-",
        "colab_type": "code",
        "colab": {}
      },
      "source": [
        ""
      ],
      "execution_count": null,
      "outputs": []
    },
    {
      "cell_type": "code",
      "metadata": {
        "id": "z5jGpkEjyg7q",
        "colab_type": "code",
        "colab": {}
      },
      "source": [
        ""
      ],
      "execution_count": null,
      "outputs": []
    },
    {
      "cell_type": "code",
      "metadata": {
        "id": "vxMcibUlyhaU",
        "colab_type": "code",
        "colab": {}
      },
      "source": [
        ""
      ],
      "execution_count": null,
      "outputs": []
    },
    {
      "cell_type": "code",
      "metadata": {
        "id": "8_wx3lHWygz0",
        "colab_type": "code",
        "colab": {}
      },
      "source": [
        ""
      ],
      "execution_count": null,
      "outputs": []
    },
    {
      "cell_type": "markdown",
      "metadata": {
        "id": "WiEC5W6swGJ-",
        "colab_type": "text"
      },
      "source": [
        "### **CURRENT RMS FEATURE**"
      ]
    },
    {
      "cell_type": "code",
      "metadata": {
        "id": "jFuoxLtLwKhL",
        "colab_type": "code",
        "colab": {}
      },
      "source": [
        "def rms(sig):\n",
        "    return np.sqrt(np.mean(np.array(sig)**2))"
      ],
      "execution_count": null,
      "outputs": []
    },
    {
      "cell_type": "code",
      "metadata": {
        "id": "TPgj3ckSwLUS",
        "colab_type": "code",
        "colab": {}
      },
      "source": [
        "a = os.listdir()"
      ],
      "execution_count": null,
      "outputs": []
    },
    {
      "cell_type": "code",
      "metadata": {
        "id": "wMmLaIm4wL3z",
        "colab_type": "code",
        "colab": {}
      },
      "source": [
        "from scipy.signal import resample\n",
        "v_rms = []\n",
        "for j in range(100):\n",
        "#for j in range(len(a)):   \n",
        "    df = pd.read_csv(a[j])\n",
        "    v = df['v']\n",
        "    i = df['i']\n",
        "    #v = resample(v,250)\n",
        "    v_rms.append(rms(v))\n"
      ],
      "execution_count": null,
      "outputs": []
    },
    {
      "cell_type": "code",
      "metadata": {
        "id": "B96UZtRDwLCJ",
        "colab_type": "code",
        "colab": {}
      },
      "source": [
        "i_rms = []\n",
        "label = []\n",
        "for j in range(len(a)):   \n",
        "    df = pd.read_csv(a[j])\n",
        "    v = df['v']\n",
        "    i = df['i']\n",
        "    #i = resample(i,250)\n",
        "    i_rms.append(rms(i))\n",
        "    filename = a[j]\n",
        "    idx = filename.find(\"_\")\n",
        "    label.append(filename[:idx])\n"
      ],
      "execution_count": null,
      "outputs": []
    },
    {
      "cell_type": "code",
      "metadata": {
        "id": "qUbBAcvfwY5t",
        "colab_type": "code",
        "colab": {}
      },
      "source": [
        "i_rms = np.array(i_rms)\n",
        "df = pd.DataFrame(list(zip(a,i_rms)) , columns=['filename' , 'i_rms'])"
      ],
      "execution_count": null,
      "outputs": []
    },
    {
      "cell_type": "code",
      "metadata": {
        "id": "p0v-T79ewZpk",
        "colab_type": "code",
        "colab": {}
      },
      "source": [
        "df2 = pd.DataFrame(list(zip(label,i_rms)) , columns=['label' , 'i_rms'])"
      ],
      "execution_count": null,
      "outputs": []
    },
    {
      "cell_type": "code",
      "metadata": {
        "id": "PF6dlCEcwdJw",
        "colab_type": "code",
        "colab": {}
      },
      "source": [
        "%cd /content/gdrive/'My Drive'/Feature_Extraction/data/whited/features"
      ],
      "execution_count": null,
      "outputs": []
    },
    {
      "cell_type": "code",
      "metadata": {
        "id": "tYh8caCBwfWo",
        "colab_type": "code",
        "colab": {}
      },
      "source": [
        "df.to_csv('i_rms.csv' , index = False)"
      ],
      "execution_count": null,
      "outputs": []
    },
    {
      "cell_type": "code",
      "metadata": {
        "id": "63OAxL9_whyj",
        "colab_type": "code",
        "colab": {}
      },
      "source": [
        "df2.to_csv('i_rms_labelled.csv' , index = False)"
      ],
      "execution_count": null,
      "outputs": []
    },
    {
      "cell_type": "code",
      "metadata": {
        "id": "xvjrcDtHwkSl",
        "colab_type": "code",
        "colab": {}
      },
      "source": [
        ""
      ],
      "execution_count": null,
      "outputs": []
    },
    {
      "cell_type": "markdown",
      "metadata": {
        "id": "AhX-5NYUwrhf",
        "colab_type": "text"
      },
      "source": [
        "## **VOLTAGE CURRENT RMS FEATURE**"
      ]
    },
    {
      "cell_type": "code",
      "metadata": {
        "id": "MiQS09_-wm3w",
        "colab_type": "code",
        "colab": {}
      },
      "source": [
        "%cd /content/gdrive/'My Drive'/Feature_Extraction/data/whited/voltage"
      ],
      "execution_count": null,
      "outputs": []
    },
    {
      "cell_type": "code",
      "metadata": {
        "id": "QLJ7oWRZwwfW",
        "colab_type": "code",
        "colab": {}
      },
      "source": [
        "from scipy.signal import resample\n",
        "v_rms = []\n",
        "i_rms = []\n",
        "#for j in range(100):\n",
        "for j in range(len(a)):   \n",
        "    df = pd.read_csv(a[j])\n",
        "    v = df['v']\n",
        "    i = df['i']\n",
        "    #v = resample(v,250)\n",
        "    v_rms.append(rms(v))\n",
        "    i_rms.append(rms(i))\n",
        "\n",
        "    filename = a[j]\n",
        "    idx = filename.find(\"_\")\n",
        "    label.append(filename[:idx])\n"
      ],
      "execution_count": null,
      "outputs": []
    },
    {
      "cell_type": "code",
      "metadata": {
        "id": "5FtqIz9jwy9T",
        "colab_type": "code",
        "colab": {}
      },
      "source": [
        "v_rms = np.array(v_rms)\n",
        "df = pd.DataFrame(list(zip(a,v_rms)) , columns=['filename' , 'v_rms'])"
      ],
      "execution_count": null,
      "outputs": []
    },
    {
      "cell_type": "code",
      "metadata": {
        "id": "Dn1OJjD0-LcJ",
        "colab_type": "code",
        "colab": {}
      },
      "source": [
        "df2 = pd.DataFrame(list(zip(label,v_rms)) , columns=['label' , 'v_rms'])\n",
        "df.to_csv('v_rms.csv' , index = False)\n",
        "df2.to_csv('v_rms_labelled.csv' , index = False)"
      ],
      "execution_count": null,
      "outputs": []
    },
    {
      "cell_type": "code",
      "metadata": {
        "id": "jnRuImnv-Cln",
        "colab_type": "code",
        "colab": {}
      },
      "source": [
        "i_rms = np.array(i_rms)\n",
        "df = pd.DataFrame(list(zip(a,i_rms)) , columns=['filename' , 'i_rms'])"
      ],
      "execution_count": null,
      "outputs": []
    },
    {
      "cell_type": "code",
      "metadata": {
        "id": "QQnelarXw4Fx",
        "colab_type": "code",
        "colab": {}
      },
      "source": [
        "%cd /content/gdrive/'My Drive'/Feature_Extraction/data/whited/features"
      ],
      "execution_count": null,
      "outputs": []
    },
    {
      "cell_type": "code",
      "metadata": {
        "id": "7rh1YVE9xAD3",
        "colab_type": "code",
        "colab": {}
      },
      "source": [
        "df2 = pd.DataFrame(list(zip(label,i_rms)) , columns=['label' , 'i_rms'])"
      ],
      "execution_count": null,
      "outputs": []
    },
    {
      "cell_type": "code",
      "metadata": {
        "id": "3tz3Vupjw6rM",
        "colab_type": "code",
        "colab": {}
      },
      "source": [
        "df.to_csv('i_rms.csv' , index = False)"
      ],
      "execution_count": null,
      "outputs": []
    },
    {
      "cell_type": "code",
      "metadata": {
        "id": "235E5dEVw-Cq",
        "colab_type": "code",
        "colab": {}
      },
      "source": [
        "df2.to_csv('i_rms_labelled.csv' , index = False)"
      ],
      "execution_count": null,
      "outputs": []
    },
    {
      "cell_type": "markdown",
      "metadata": {
        "id": "i0Uh39ejc97b",
        "colab_type": "text"
      },
      "source": [
        "## **POWER FEATURES**"
      ]
    },
    {
      "cell_type": "code",
      "metadata": {
        "id": "KN4JHDXUdF9j",
        "colab_type": "code",
        "colab": {}
      },
      "source": [
        "\n",
        "%cd /content/gdrive/'My Drive'/Feature_Extraction/data/whited/voltage\n",
        "names = os.listdir()\n",
        "print(len(names))\n",
        "\n",
        "indx_60 = pd.date_range('1/1/2020', periods= 300 , freq='16666us')\n",
        "indx_50 = pd.date_range('1/1/2020', periods= 250 , freq='20ms')\n",
        "\n",
        "fr_50 = []\n",
        "for i in range(250):\n",
        "    fr_50.append(50)\n",
        "\n",
        "fr_60 = []\n",
        "for k in range(300):\n",
        "    fr_60.append(60)\n",
        "\n",
        "for count in range(len(names)):  # change to check\n",
        "#for count in range(3):   \n",
        "    data = pd.read_csv(names[count])\n",
        "    filename = names[count]\n",
        "    v = data['v']\n",
        "    i = data['i']\n",
        "    v_rms = []\n",
        "    i_rms = []\n",
        "    s = []\n",
        "    p = []\n",
        "    q = []\n",
        "    if '_r8_' in names[count]:\n",
        "        period = 735\n",
        "        duration = 300\n",
        "        freq = fr_60 \n",
        "        indx = indx_60\n",
        "    else :\n",
        "        period = 882\n",
        "        duration = 250\n",
        "        freq = fr_50\n",
        "        indx = indx_50\n",
        "\n",
        "    for index in range(duration):\n",
        "        temp = v[ period * index : period * index + period]\n",
        "        temp2 = i[period * index : period * index + period]\n",
        "        v_rms_temp = np.sqrt(np.mean(temp**2))\n",
        "        v_rms.append(v_rms_temp)\n",
        "        i_rms_temp = np.sqrt(np.mean(temp2**2))\n",
        "        i_rms.append(i_rms_temp)\n",
        "        p.append(1/period * np.sum(np.dot(temp, temp2)))\n",
        "        s.append(v_rms_temp * i_rms_temp)\n",
        "        q.append(np.sqrt((s[-1] **2 ) - (p[-1] **2)))\n",
        "    f = pd.DataFrame(list(zip(indx, freq,  p,q,s)), columns = ['index', 'frequency' , 'active power', 'reactive power', 'total power'])\n",
        "    %cd /content/gdrive/'My Drive'/Feature_Extraction/data/whited/power_new_60Hz\n",
        "    f.to_csv( filename , index = False)\n",
        "    %cd /content/gdrive/'My Drive'/Feature_Extraction/data/whited/voltage\n",
        "    print(count)  # important to check status\n",
        "        \n"
      ],
      "execution_count": null,
      "outputs": []
    },
    {
      "cell_type": "code",
      "metadata": {
        "id": "ZVWDLBJEejuI",
        "colab_type": "code",
        "colab": {}
      },
      "source": [
        ""
      ],
      "execution_count": null,
      "outputs": []
    },
    {
      "cell_type": "code",
      "metadata": {
        "id": "facUupb4ejBy",
        "colab_type": "code",
        "colab": {}
      },
      "source": [
        ""
      ],
      "execution_count": null,
      "outputs": []
    },
    {
      "cell_type": "code",
      "metadata": {
        "id": "J-ndRbrceIOC",
        "colab_type": "code",
        "colab": {}
      },
      "source": [
        ""
      ],
      "execution_count": null,
      "outputs": []
    },
    {
      "cell_type": "markdown",
      "metadata": {
        "id": "Kk518U4gesh2",
        "colab_type": "text"
      },
      "source": [
        "## **WAVELET CEPTRAL COEFFICIENTS USING DAUBECHIES WAVELET**"
      ]
    },
    {
      "cell_type": "markdown",
      "metadata": {
        "id": "H5Sw7XRlcOHX",
        "colab_type": "text"
      },
      "source": [
        "**Reference :**\n",
        "\n",
        "---\n",
        "\n",
        "\n",
        "- [Wavelet Cepstral Coefficients for Electrical Appliances Identification\n",
        "using Hidden Markov Models](https://www.scitepress.org/Papers/2018/66623/66623.pdf)\n",
        "\n",
        "\n",
        "- [Speaker Recognition Using Wavelet Cepstral\n",
        "Coefficient, I-Vector, and Cosine Distance Scoring\n",
        "and Its Application for Forensics](http://downloads.hindawi.com/journals/jece/2016/4908412.pdf)\n",
        "\n",
        "\n",
        "\n",
        "\n",
        "\n",
        "\n",
        "- [DUAL TREE COMPLEX WAVELET CEPSTRAL\n",
        "COEFFICIENT – BASED BAT CLASSIFICATION\n",
        "](https://sg.inflibnet.ac.in/bitstream/10603/87973/5/14_chapter%205.pdf)"
      ]
    },
    {
      "cell_type": "code",
      "metadata": {
        "id": "s8_I7coSfXFx",
        "colab_type": "code",
        "colab": {}
      },
      "source": [
        "import pywt\n",
        "from pywt import  wavedec\n",
        "from scipy.signal import resample\n",
        "from scipy.fftpack import fft, dct\n",
        "def wavelet(filename):\n",
        "    df = pd.read_csv(filename)\n",
        "    i = df['i']\n",
        "    j = resample(i,500)\n",
        "    dec = pywt.wavedec(data = j, wavelet = 'db4', level=5 )\n",
        "    log = np.log(np.abs(np.array(dec[0]))) + 0.0001\n",
        "    b = dct(log, type = 2 , n = 14)\n",
        "    return np.array(b)\n",
        "\n",
        "# will take 20 minutes\n",
        "t4 = []\n",
        "label = []\n",
        "for index in range(len(a)):\n",
        "#for index in range(10):\n",
        "    filename = a[index]\n",
        "\n",
        "    t4.append(np.array(wavelet(filename)))\n",
        "    idx = filename.find(\"_\")\n",
        "    label.append(filename[:idx])\n",
        "\n",
        "t4 = np.array(t4)\n",
        "t4[:,13]\n",
        "\n",
        "df2 = pd.DataFrame(list(zip( label,  t4[:,0],  t4[:,1],  t4[:,2],  t4[:,3],  t4[:,4],  t4[:,5], \n",
        "                              t4[:,6],  t4[:,7],  t4[:,8] , t4[:,9],  t4[:,10],\n",
        "                              t4[:,11], t4[:,12], t4[:,13] )), \n",
        "                   \n",
        "                  columns = ['label'   ,  '0,1'  ,  '0,2' ,   '0,3', \n",
        "                              '0,4' , '0,5' , '0,6' ,  '0,7' ,  '0,8' , \n",
        "                              '0,9' , '0,10',  '0,11' ,  '0,12' ,  '0,13' ,  \n",
        "                              '0,14' ]  )\n",
        "\n",
        "\n"
      ],
      "execution_count": null,
      "outputs": []
    },
    {
      "cell_type": "code",
      "metadata": {
        "id": "BclEamij4b1Z",
        "colab_type": "code",
        "colab": {}
      },
      "source": [
        "%cd /content/gdrive/'My Drive'/Feature_Extraction/data/whited/csv_files"
      ],
      "execution_count": null,
      "outputs": []
    },
    {
      "cell_type": "code",
      "metadata": {
        "id": "DvzPMPhrfXB3",
        "colab_type": "code",
        "colab": {}
      },
      "source": [
        "df2.to_csv('0.csv', index = False)"
      ],
      "execution_count": null,
      "outputs": []
    },
    {
      "cell_type": "code",
      "metadata": {
        "id": "o_ImNxcO4Z7k",
        "colab_type": "code",
        "colab": {}
      },
      "source": [
        "from sklearn.preprocessing import LabelEncoder\n",
        "\n",
        "lb_make = LabelEncoder()\n",
        "df2[\"label\"] = lb_make.fit_transform(df2[\"label\"])"
      ],
      "execution_count": null,
      "outputs": []
    },
    {
      "cell_type": "code",
      "metadata": {
        "id": "vmvzvnkF4iUJ",
        "colab_type": "code",
        "colab": {}
      },
      "source": [
        "df2.to_csv('0_labeled.csv', index = False)"
      ],
      "execution_count": null,
      "outputs": []
    },
    {
      "cell_type": "markdown",
      "metadata": {
        "id": "WxQNn3av4lY5",
        "colab_type": "text"
      },
      "source": [
        ""
      ]
    },
    {
      "cell_type": "code",
      "metadata": {
        "id": "w16HU_B_4lAB",
        "colab_type": "code",
        "colab": {}
      },
      "source": [
        "import pywt\n",
        "from pywt import  wavedec\n",
        "from scipy.signal import resample\n",
        "from scipy.fftpack import fft, dct\n",
        "def wavelet(filename):\n",
        "    df = pd.read_csv(filename)\n",
        "    i = df['i']\n",
        "    j = resample(i,500)\n",
        "    dec = pywt.wavedec(data = j, wavelet = 'db4', level=5 )\n",
        "    log = np.log(np.abs(np.array(dec[0]))) + 0.0001\n",
        "    b = dct(log, type = 2 , n = 14)\n",
        "    return np.array(b)\n",
        "\n",
        "# will take 20 minutes\n",
        "t4 = []\n",
        "label = []\n",
        "for index in range(len(a)):\n",
        "#for index in range(10):\n",
        "    filename = a[index]\n",
        "\n",
        "    t4.append(np.array(wavelet(filename)))\n",
        "    idx = filename.find(\"_\")\n",
        "    label.append(filename[:idx])\n",
        "\n",
        "t4 = np.array(t4)\n",
        "t4[:,13]\n",
        "\n",
        "df2 = pd.DataFrame(list(zip( label,  t4[:,0],  t4[:,1],  t4[:,2],  t4[:,3],  t4[:,4],  t4[:,5], \n",
        "                              t4[:,6],  t4[:,7],  t4[:,8] , t4[:,9],  t4[:,10],\n",
        "                              t4[:,11], t4[:,12], t4[:,13] )), \n",
        "                   \n",
        "                  columns = ['label'   ,  '0,1'  ,  '0,2' ,   '0,3', \n",
        "                              '0,4' , '0,5' , '0,6' ,  '0,7' ,  '0,8' , \n",
        "                              '0,9' , '0,10',  '0,11' ,  '0,12' ,  '0,13' ,  \n",
        "                              '0,14' ]  )\n",
        "\n",
        "\n",
        "%cd /content/gdrive/'My Drive'/Feature_Extraction/data/whited/csv_files\n",
        "\n",
        "df2.to_csv('0.csv', index = False)\n",
        "\n",
        "from sklearn.preprocessing import LabelEncoder\n",
        "\n",
        "lb_make = LabelEncoder()\n",
        "df2[\"label\"] = lb_make.fit_transform(df2[\"label\"])\n",
        "\n",
        "\n",
        "df2.to_csv('0_labeled.csv', index = False)\n"
      ],
      "execution_count": null,
      "outputs": []
    },
    {
      "cell_type": "code",
      "metadata": {
        "id": "4cciCxPa4l5o",
        "colab_type": "code",
        "colab": {}
      },
      "source": [
        ""
      ],
      "execution_count": null,
      "outputs": []
    },
    {
      "cell_type": "markdown",
      "metadata": {
        "id": "JEDuoy1s5PYO",
        "colab_type": "text"
      },
      "source": [
        "## **MAXIMUM AND MINIMUM POWER FEATURE**"
      ]
    },
    {
      "cell_type": "code",
      "metadata": {
        "id": "5ppvjopo5TnL",
        "colab_type": "code",
        "colab": {}
      },
      "source": [
        "max_power = []\n",
        "min_power = []\n",
        "label = []\n",
        "for j in range(len(a)):\n",
        "    df = pd.read_csv(a[j])\n",
        "    p = np.array(df['active power'])\n",
        "    p_max = max(p)\n",
        "    p_min = min(p)\n",
        "    max_power.append(p_max)\n",
        "    min_power.append(p_min)\n",
        "    filename = a[j]\n",
        "    idx = filename.find(\"_\")\n",
        "    label.append(filename[:idx])"
      ],
      "execution_count": null,
      "outputs": []
    },
    {
      "cell_type": "code",
      "metadata": {
        "id": "D33li5q55fXs",
        "colab_type": "code",
        "colab": {}
      },
      "source": [
        "df = pd.DataFrame(list(zip(a,max_power)) , columns=['filename' , 'max_power'])\n",
        "df2 = pd.DataFrame(list(zip(label,max_power)) , columns=['label' , 'max_power'])\n",
        "df3 = pd.DataFrame(list(zip(a,min_power)) , columns=['filename' , 'min_power'])\n",
        "df4 = pd.DataFrame(list(zip(label,min_power)) , columns=['label' , 'min_power'])"
      ],
      "execution_count": null,
      "outputs": []
    },
    {
      "cell_type": "code",
      "metadata": {
        "id": "GQLTzTpz5r1H",
        "colab_type": "code",
        "colab": {}
      },
      "source": [
        "%cd /content/gdrive/'My Drive'/Feature_Extraction/data/whited/features"
      ],
      "execution_count": null,
      "outputs": []
    },
    {
      "cell_type": "code",
      "metadata": {
        "id": "IVF5kZRJ5xmj",
        "colab_type": "code",
        "colab": {}
      },
      "source": [
        "df.to_csv('max_power.csv' , index = False)\n",
        "\n",
        "from sklearn.preprocessing import LabelEncoder\n",
        "\n",
        "lb_make = LabelEncoder()\n",
        "df4[\"label\"] = lb_make.fit_transform(df4[\"label\"])\n",
        "\n",
        "df2.to_csv('max_power_ml_labeled.csv' , index = False)\n",
        "\n",
        "df3.to_csv('min_power.csv' , index = False)\n",
        "\n",
        "df4.to_csv('max_power_ml_labeled.csv' , index = False)"
      ],
      "execution_count": null,
      "outputs": []
    },
    {
      "cell_type": "markdown",
      "metadata": {
        "id": "XU66MzTO8Xs3",
        "colab_type": "text"
      },
      "source": [
        "## **POWER FACTOR**"
      ]
    },
    {
      "cell_type": "code",
      "metadata": {
        "id": "2ThaVy1lQhRh",
        "colab_type": "code",
        "colab": {}
      },
      "source": [
        "import os\n",
        "a = os.listdir()"
      ],
      "execution_count": null,
      "outputs": []
    },
    {
      "cell_type": "code",
      "metadata": {
        "id": "wzFsOqIH8bh0",
        "colab_type": "code",
        "colab": {}
      },
      "source": [
        "power_factor = []\n",
        "for j in range(len(a)):\n",
        "#for j in range(13):\n",
        "    df = pd.read_csv(a[j])\n",
        "    \n",
        "    p_rms = rms(np.array(df['active power']))\n",
        "    q_rms = rms(np.array(df['reactive power']))\n",
        "    pf = q_rms/p_rms\n",
        "    power_factor.append(float('{:.3f}'.format(pf)))"
      ],
      "execution_count": null,
      "outputs": []
    },
    {
      "cell_type": "code",
      "metadata": {
        "id": "b1I_Tygs8cFN",
        "colab_type": "code",
        "colab": {}
      },
      "source": [
        "df = pd.DataFrame(list(zip(a,power_factor)) , columns=['filename' , 'power_factor'])"
      ],
      "execution_count": null,
      "outputs": []
    },
    {
      "cell_type": "code",
      "metadata": {
        "id": "cvguDIcA8lGD",
        "colab_type": "code",
        "colab": {}
      },
      "source": [
        "%cd /content/gdrive/'My Drive'/Feature_Extraction/data/whited/features"
      ],
      "execution_count": null,
      "outputs": []
    },
    {
      "cell_type": "code",
      "metadata": {
        "id": "5o0n9OuD8n5E",
        "colab_type": "code",
        "colab": {}
      },
      "source": [
        "df.to_csv('power_factor.csv' , index = False)\n"
      ],
      "execution_count": null,
      "outputs": []
    },
    {
      "cell_type": "code",
      "metadata": {
        "id": "gnXrfLAk8x8V",
        "colab_type": "code",
        "colab": {}
      },
      "source": [
        "df2 = pd.read_csv('0_labeled.csv')\n",
        "df3 = pd.concat ( [df2['label'] , df['power_factor'] ] , axis = 1)\n",
        "df3.to_csv('power_factor_ml.csv' , index = False)"
      ],
      "execution_count": null,
      "outputs": []
    },
    {
      "cell_type": "code",
      "metadata": {
        "id": "6FbHiaf083PW",
        "colab_type": "code",
        "colab": {}
      },
      "source": [
        ""
      ],
      "execution_count": null,
      "outputs": []
    }
  ]
}